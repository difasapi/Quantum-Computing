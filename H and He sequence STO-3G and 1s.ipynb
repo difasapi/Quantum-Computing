{
 "cells": [
  {
   "cell_type": "code",
   "execution_count": 1,
   "id": "277ab981-fd48-4029-867a-7a4a25356ddd",
   "metadata": {
    "tags": []
   },
   "outputs": [
    {
     "name": "stdout",
     "output_type": "stream",
     "text": [
      "Requirement already satisfied: qiskit-nature in /opt/conda/lib/python3.10/site-packages (0.7.2)\n",
      "Requirement already satisfied: pyscf in /opt/conda/lib/python3.10/site-packages (2.5.0)\n",
      "Requirement already satisfied: qiskit>=0.44 in /opt/conda/lib/python3.10/site-packages (from qiskit-nature) (1.0.2)\n",
      "Requirement already satisfied: qiskit-algorithms>=0.2.1 in /opt/conda/lib/python3.10/site-packages (from qiskit-nature) (0.3.0)\n",
      "Requirement already satisfied: scipy>=1.4 in /opt/conda/lib/python3.10/site-packages (from qiskit-nature) (1.12.0)\n",
      "Requirement already satisfied: numpy>=1.17 in /opt/conda/lib/python3.10/site-packages (from qiskit-nature) (1.23.5)\n",
      "Requirement already satisfied: psutil>=5 in /opt/conda/lib/python3.10/site-packages (from qiskit-nature) (5.9.4)\n",
      "Requirement already satisfied: setuptools>=40.1.0 in /opt/conda/lib/python3.10/site-packages (from qiskit-nature) (65.5.1)\n",
      "Requirement already satisfied: typing-extensions in /opt/conda/lib/python3.10/site-packages (from qiskit-nature) (4.9.0)\n",
      "Requirement already satisfied: h5py in /opt/conda/lib/python3.10/site-packages (from qiskit-nature) (3.7.0)\n",
      "Requirement already satisfied: rustworkx>=0.12 in /opt/conda/lib/python3.10/site-packages (from qiskit-nature) (0.14.0)\n",
      "Requirement already satisfied: sympy>=1.3 in /opt/conda/lib/python3.10/site-packages (from qiskit>=0.44->qiskit-nature) (1.11.1)\n",
      "Requirement already satisfied: dill>=0.3 in /opt/conda/lib/python3.10/site-packages (from qiskit>=0.44->qiskit-nature) (0.3.6)\n",
      "Requirement already satisfied: python-dateutil>=2.8.0 in /opt/conda/lib/python3.10/site-packages (from qiskit>=0.44->qiskit-nature) (2.8.2)\n",
      "Requirement already satisfied: stevedore>=3.0.0 in /opt/conda/lib/python3.10/site-packages (from qiskit>=0.44->qiskit-nature) (5.1.0)\n",
      "Requirement already satisfied: symengine>=0.11 in /opt/conda/lib/python3.10/site-packages (from qiskit>=0.44->qiskit-nature) (0.11.0)\n",
      "Requirement already satisfied: six>=1.5 in /opt/conda/lib/python3.10/site-packages (from python-dateutil>=2.8.0->qiskit>=0.44->qiskit-nature) (1.16.0)\n",
      "Requirement already satisfied: pbr!=2.1.0,>=2.0.0 in /opt/conda/lib/python3.10/site-packages (from stevedore>=3.0.0->qiskit>=0.44->qiskit-nature) (6.0.0)\n",
      "Requirement already satisfied: mpmath>=0.19 in /opt/conda/lib/python3.10/site-packages (from sympy>=1.3->qiskit>=0.44->qiskit-nature) (1.2.1)\n"
     ]
    }
   ],
   "source": [
    "!pip install qiskit-nature pyscf"
   ]
  },
  {
   "cell_type": "code",
   "execution_count": 2,
   "id": "1a540275-5a51-4106-8380-1eb73c29b692",
   "metadata": {
    "tags": []
   },
   "outputs": [],
   "source": [
    "import numpy as np\n",
    "import matplotlib.pyplot as plt\n",
    "import copy\n",
    "import qiskit, qiskit_nature, pyscf\n",
    "\n",
    "# Qiskit Nature\n",
    "from qiskit_nature.units import DistanceUnit\n",
    "from qiskit_nature.second_q.drivers import PySCFDriver, InitialGuess\n",
    "from qiskit_nature.second_q.algorithms import GroundStateEigensolver\n",
    "from qiskit_nature.second_q.mappers import JordanWignerMapper\n",
    "from qiskit_nature.second_q.operators import FermionicOp\n",
    "from qiskit.circuit.library import TwoLocal\n",
    "from qiskit_algorithms.minimum_eigensolvers import VQE, NumPyMinimumEigensolver\n",
    "from qiskit_algorithms.optimizers import SLSQP, COBYLA\n",
    "from qiskit.primitives import Estimator\n",
    "\n",
    "# PySCF\n",
    "from pyscf import gto, scf"
   ]
  },
  {
   "cell_type": "markdown",
   "id": "2b3c3074-c6fd-4916-aca7-0b756fa40120",
   "metadata": {},
   "source": [
    "# Driver Run from Qiskit PySCFDRIVER"
   ]
  },
  {
   "cell_type": "code",
   "execution_count": 3,
   "id": "c77afb09-52f9-49d1-989a-11f1c1fb17d7",
   "metadata": {
    "tags": []
   },
   "outputs": [],
   "source": [
    "def fermi_operator(driver, name='Atom-X'):\n",
    "    print(name)\n",
    "    problem = driver.run()\n",
    "    hamiltonian = problem.hamiltonian\n",
    "    \n",
    "    second_q_op = hamiltonian.second_q_op()\n",
    "    clean_second_q_op = copy.deepcopy(second_q_op)\n",
    "    \n",
    "    Nuc = problem.nuclear_repulsion_energy\n",
    "    \n",
    "    #Menghapus fermi op yang tidak digunakan dan bernilai 0\n",
    "    remove_list = []\n",
    "    for key, value in second_q_op._data.items():\n",
    "        key_l = len(key)\n",
    "        if key_l == 7:\n",
    "            continue\n",
    "        elif key_l == 15:\n",
    "            op1 = key[2] \n",
    "            op2 = key[6]\n",
    "            op3 = key[10]\n",
    "            op4 = key[14] \n",
    "\n",
    "            if op1 == op2:\n",
    "                remove_list.append(key)\n",
    "            elif op3 == op4:\n",
    "                remove_list.append(key)\n",
    "                \n",
    "    [clean_second_q_op._data.pop(key) for key in remove_list]\n",
    "    # print('Nuclear:', Nuc)\n",
    "    # print(clean_second_q_op)\n",
    "    # print()\n",
    "    return Nuc, clean_second_q_op"
   ]
  },
  {
   "cell_type": "markdown",
   "id": "b57e6590-8c98-49dd-95ef-8819f9202f46",
   "metadata": {},
   "source": [
    "# STO-3G Basis set"
   ]
  },
  {
   "cell_type": "markdown",
   "id": "822245e1-2cac-42e6-be86-d995ef55b5dd",
   "metadata": {},
   "source": [
    "## Hamiltonian set up"
   ]
  },
  {
   "cell_type": "markdown",
   "id": "15c4248f-4924-4206-91b0-ed1fe7c2bd9c",
   "metadata": {},
   "source": [
    "### H sequence"
   ]
  },
  {
   "cell_type": "code",
   "execution_count": 4,
   "id": "ce148750-d0e0-4c06-b233-40fcaf333bb6",
   "metadata": {
    "tags": []
   },
   "outputs": [],
   "source": [
    "H_driver = PySCFDriver(\n",
    "    atom = \"H 0 0 0\",\n",
    "    basis = 'sto-3g',\n",
    "    charge = 0, #charge = 2 proton - 1 electron = +1\n",
    "    spin = 1, #2*spin == 2 (1/2) = 1\n",
    "    unit = DistanceUnit.BOHR,\n",
    ")\n",
    "\n",
    "He_p_driver = PySCFDriver(\n",
    "    atom = \"He 0 0 0\",\n",
    "    basis = 'sto-3g',\n",
    "    charge = 1, #charge = 2 proton - 1 electron = +1\n",
    "    spin = 1, #2*spin == 2 (1/2) = 1\n",
    "    unit = DistanceUnit.BOHR,\n",
    ")\n",
    "\n",
    "Li_p2_driver = PySCFDriver(\n",
    "    atom = \"Li 0 0 0\",\n",
    "    basis = 'sto-3g',\n",
    "    charge = 2, #charge = 2 proton - 1 electron = +1\n",
    "    spin = 1, #2*spin == 2 (1/2) = 1\n",
    "    unit = DistanceUnit.BOHR,\n",
    ")\n",
    "\n",
    "Be_p3_driver = PySCFDriver(\n",
    "    atom = \"Be 0 0 0\",\n",
    "    basis = 'sto-3g',\n",
    "    charge = 3, #charge = 2 proton - 1 electron = +1\n",
    "    spin = 1, #2*spin == 2 (1/2) = 1\n",
    "    unit = DistanceUnit.BOHR,\n",
    ")\n",
    "\n",
    "B_p4_driver = PySCFDriver(\n",
    "    atom = \"B 0 0 0\",\n",
    "    basis = 'sto-3g',\n",
    "    charge = 4, #charge = 2 proton - 1 electron = +1\n",
    "    spin = 1, #2*spin == 2 (1/2) = 1\n",
    "    unit = DistanceUnit.BOHR,\n",
    ")\n",
    "\n",
    "C_p5_driver = PySCFDriver(\n",
    "    atom = \"C 0 0 0\",\n",
    "    basis = 'sto-3g',\n",
    "    charge = 5, #charge = 2 proton - 1 electron = +1\n",
    "    spin = 1, #2*spin == 2 (1/2) = 1\n",
    "    unit = DistanceUnit.BOHR,\n",
    ")\n",
    "\n",
    "N_p6_driver = PySCFDriver(\n",
    "    atom = \"N 0 0 0\",\n",
    "    basis = 'sto-3g',\n",
    "    charge = 6, #charge = 2 proton - 1 electron = +1\n",
    "    spin = 1, #2*spin == 2 (1/2) = 1\n",
    "    unit = DistanceUnit.BOHR,\n",
    ")\n",
    "\n",
    "O_p7_driver = PySCFDriver(\n",
    "    atom = \"O 0 0 0\",\n",
    "    basis = 'sto-3g',\n",
    "    charge = 7, #charge = 2 proton - 1 electron = +1\n",
    "    spin = 1, #2*spin == 2 (1/2) = 1\n",
    "    unit = DistanceUnit.BOHR,\n",
    ")"
   ]
  },
  {
   "cell_type": "code",
   "execution_count": 5,
   "id": "faf4e7d3-7e7d-4202-a86c-72b444017d5f",
   "metadata": {
    "tags": []
   },
   "outputs": [
    {
     "name": "stdout",
     "output_type": "stream",
     "text": [
      "H\n",
      "He+\n",
      "Li+2\n",
      "Be+3\n",
      "B+4\n",
      "C+5\n",
      "N+6\n",
      "O+7\n"
     ]
    }
   ],
   "source": [
    "Nuc_H, H_clean_s_op = fermi_operator(H_driver, name='H')\n",
    "Nuc_He_p, He_p_clean_s_op = fermi_operator(He_p_driver, name='He+')\n",
    "Nuc_Li_p2, Li_p2_clean_s_op = fermi_operator(Li_p2_driver, name='Li+2')\n",
    "Nuc_Be_p3, Be_p3_clean_s_op = fermi_operator(Be_p3_driver, name='Be+3')\n",
    "Nuc_B_p4, B_p4_clean_s_op = fermi_operator(B_p4_driver, name='B+4')\n",
    "Nuc_C_p5, C_p5_clean_s_op = fermi_operator(C_p5_driver, name='C+5')\n",
    "Nuc_N_p6, N_p6_clean_s_op = fermi_operator(N_p6_driver, name='N+6')\n",
    "Nuc_O_p7, O_p7_clean_s_op = fermi_operator(O_p7_driver, name='O+7')"
   ]
  },
  {
   "cell_type": "markdown",
   "id": "0d94f001-4996-4dbc-bc10-2f42f61861a2",
   "metadata": {},
   "source": [
    "### He Sequence"
   ]
  },
  {
   "cell_type": "code",
   "execution_count": 6,
   "id": "85f52cbb-4c75-4c70-ae46-f7923423c08b",
   "metadata": {
    "tags": []
   },
   "outputs": [],
   "source": [
    "H_m_driver = PySCFDriver(\n",
    "    atom = \"H 0 0 0\",\n",
    "    basis = 'sto-3g',\n",
    "    charge = -1, #charge = 1 proton - 2 electron = -1\n",
    "    spin = 0, #2*spin == 2 (0) = 0\n",
    "    unit = DistanceUnit.BOHR,\n",
    ")\n",
    "\n",
    "He_driver = PySCFDriver(\n",
    "    atom = \"He 0 0 0\",\n",
    "    basis = 'sto-3g',\n",
    "    charge = 0, #charge = 2 proton - 2 electron = +1\n",
    "    spin = 0, #2*spin == 2 (1/2) = 1\n",
    "    unit = DistanceUnit.BOHR,\n",
    ")\n",
    "\n",
    "Li_p_driver = PySCFDriver(\n",
    "    atom = \"Li 0 0 0\",\n",
    "    basis = 'sto-3g',\n",
    "    charge = 1, #charge = 2 proton - 1 electron = +1\n",
    "    spin = 0, #2*spin == 2 (1/2) = 1\n",
    "    unit = DistanceUnit.BOHR,\n",
    ")\n",
    "\n",
    "Be_p2_driver = PySCFDriver(\n",
    "    atom = \"Be 0 0 0\",\n",
    "    basis = 'sto-3g',\n",
    "    charge = 2, #charge = 2 proton - 1 electron = +1\n",
    "    spin = 0, #2*spin == 2 (1/2) = 1\n",
    "    unit = DistanceUnit.BOHR,\n",
    ")\n",
    "\n",
    "B_p3_driver = PySCFDriver(\n",
    "    atom = \"B 0 0 0\",\n",
    "    basis = 'sto-3g',\n",
    "    charge = 3, #charge = 2 proton - 1 electron = +1\n",
    "    spin = 0, #2*spin == 2 (1/2) = 1\n",
    "    unit = DistanceUnit.BOHR,\n",
    ")\n",
    "\n",
    "C_p4_driver = PySCFDriver(\n",
    "    atom = \"C 0 0 0\",\n",
    "    basis = 'sto-3g',\n",
    "    charge = 4, #charge = 2 proton - 1 electron = +1\n",
    "    spin = 0, #2*spin == 2 (1/2) = 1\n",
    "    unit = DistanceUnit.BOHR,\n",
    ")\n",
    "\n",
    "N_p5_driver = PySCFDriver(\n",
    "    atom = \"N 0 0 0\",\n",
    "    basis = 'sto-3g',\n",
    "    charge = 5, #charge = 2 proton - 1 electron = +1\n",
    "    spin = 0, #2*spin == 2 (1/2) = 1\n",
    "    unit = DistanceUnit.BOHR,\n",
    ")\n",
    "\n",
    "O_p6_driver = PySCFDriver(\n",
    "    atom = \"O 0 0 0\",\n",
    "    basis = 'sto-3g',\n",
    "    charge = 6, #charge = 2 proton - 1 electron = +1\n",
    "    spin = 0, #2*spin == 2 (1/2) = 1\n",
    "    unit = DistanceUnit.BOHR,\n",
    ")"
   ]
  },
  {
   "cell_type": "code",
   "execution_count": 7,
   "id": "80d18aa6-f30e-4022-8df7-abfa8a9d2594",
   "metadata": {
    "tags": []
   },
   "outputs": [
    {
     "name": "stdout",
     "output_type": "stream",
     "text": [
      "H-\n",
      "He\n",
      "Li+\n",
      "Be+2\n",
      "B+3\n",
      "C+4\n",
      "N+5\n",
      "O+6\n"
     ]
    }
   ],
   "source": [
    "Nuc_H_m, H_m_clean_s_op = fermi_operator(H_m_driver, name='H-')\n",
    "Nuc_He, He_clean_s_op = fermi_operator(He_driver, name='He')\n",
    "Nuc_Li_p, Li_p_clean_s_op = fermi_operator(Li_p_driver, name='Li+')\n",
    "Nuc_Be_p2, Be_p2_clean_s_op = fermi_operator(Be_p2_driver, name='Be+2')\n",
    "Nuc_B_p3, B_p3_clean_s_op = fermi_operator(B_p3_driver, name='B+3')\n",
    "Nuc_C_p4, C_p4_clean_s_op = fermi_operator(C_p4_driver, name='C+4')\n",
    "Nuc_N_p5, N_p5_clean_s_op = fermi_operator(N_p5_driver, name='N+5')\n",
    "Nuc_O_p6, O_p6_clean_s_op = fermi_operator(O_p6_driver, name='O+6')"
   ]
  },
  {
   "cell_type": "markdown",
   "id": "56088e5c-0b8d-4cce-86af-1cd63cdccdb4",
   "metadata": {},
   "source": [
    "## Choosing hamiltonian operator"
   ]
  },
  {
   "cell_type": "code",
   "execution_count": 8,
   "id": "3b917c4e-91dc-4c5a-ad85-009db1d9d6d5",
   "metadata": {
    "tags": []
   },
   "outputs": [],
   "source": [
    "one_elec_op = ['+_0 -_0','+_0 +_1 -_1 -_0', '+_1 +_0 -_0 -_1',]\n",
    "\n",
    "two_elec_op1 = ['+_0 -_0','+_1 -_1','+_0 +_1 -_1 -_0', '+_1 +_0 -_0 -_1',]\n",
    "\n",
    "two_elec_op2 = ['+_0 -_0','+_5 -_5','+_0 +_5 -_5 -_0', '+_5 +_0 -_0 -_5',]"
   ]
  },
  {
   "cell_type": "code",
   "execution_count": 9,
   "id": "a37f2e10-96f6-4105-ae81-b7a9e0a76c26",
   "metadata": {
    "tags": []
   },
   "outputs": [],
   "source": [
    "def choose_op(q_op, choose, new_h):\n",
    "    copy_op = copy.deepcopy(q_op)\n",
    "    keys = q_op._data.keys()\n",
    "    for key in keys:\n",
    "        if key in choose:\n",
    "            continue\n",
    "        copy_op._data.pop(key, None)\n",
    "    \n",
    "    if new_h == 1:\n",
    "        op_dict = {}\n",
    "        for i, j in copy_op._data.items():\n",
    "            op_dict[i] = j\n",
    "            \n",
    "    elif new_h == 2:\n",
    "        name_dict=two_elec_op1\n",
    "        op_dict = {}\n",
    "        no = 0\n",
    "        for i, j in copy_op._data.items():\n",
    "            op_dict[name_dict[no]] = j\n",
    "            no += 1\n",
    "    \n",
    "    final_op = FermionicOp(op_dict,num_spin_orbitals=2)\n",
    "    \n",
    "    return final_op"
   ]
  },
  {
   "cell_type": "markdown",
   "id": "ce3d8578-2f07-4759-a77e-e2d1428be5a2",
   "metadata": {
    "tags": []
   },
   "source": [
    "### H sequence"
   ]
  },
  {
   "cell_type": "code",
   "execution_count": 10,
   "id": "212d9258-88f1-4050-8cc9-4a31cf7548ad",
   "metadata": {
    "tags": []
   },
   "outputs": [],
   "source": [
    "H_final_s_op = choose_op(q_op = H_clean_s_op, choose = one_elec_op, new_h = 1)\n",
    "He_p_final_s_op = choose_op(q_op = He_p_clean_s_op, choose = one_elec_op, new_h = 1)\n",
    "Li_p2_final_s_op = choose_op(q_op = Li_p2_clean_s_op, choose = one_elec_op, new_h = 1)\n",
    "Be_p3_final_s_op = choose_op(q_op = Be_p3_clean_s_op, choose = one_elec_op, new_h = 1)\n",
    "B_p4_final_s_op = choose_op(q_op = B_p4_clean_s_op, choose = one_elec_op, new_h = 1)\n",
    "C_p5_final_s_op = choose_op(q_op = C_p5_clean_s_op, choose = one_elec_op, new_h = 1)\n",
    "N_p6_final_s_op = choose_op(q_op = N_p6_clean_s_op, choose = one_elec_op, new_h = 1)\n",
    "O_p7_final_s_op = choose_op(q_op = O_p7_clean_s_op, choose = one_elec_op, new_h = 1)"
   ]
  },
  {
   "cell_type": "markdown",
   "id": "3aab85ce-4bc6-4884-8d41-fd605198066a",
   "metadata": {
    "tags": []
   },
   "source": [
    "### He Sequence"
   ]
  },
  {
   "cell_type": "code",
   "execution_count": 11,
   "id": "f9cae651-da4c-4db3-b0ff-fccf980deca2",
   "metadata": {
    "tags": []
   },
   "outputs": [],
   "source": [
    "H_m_final_s_op = choose_op(q_op = H_m_clean_s_op, choose = two_elec_op1, new_h=1)\n",
    "He_final_s_op = choose_op(q_op = He_clean_s_op, choose = two_elec_op1, new_h=1)\n",
    "Li_p_final_s_op = choose_op(q_op = Li_p_clean_s_op, choose = two_elec_op2, new_h = 2)\n",
    "Be_p2_final_s_op = choose_op(q_op = Be_p2_clean_s_op, choose = two_elec_op2, new_h = 2)\n",
    "B_p3_final_s_op = choose_op(q_op = B_p3_clean_s_op, choose = two_elec_op2, new_h = 2)\n",
    "C_p4_final_s_op = choose_op(q_op = C_p4_clean_s_op, choose = two_elec_op2, new_h = 2)\n",
    "N_p5_final_s_op = choose_op(q_op = N_p5_clean_s_op, choose = two_elec_op2, new_h = 2)\n",
    "O_p6_final_s_op = choose_op(q_op = O_p6_clean_s_op, choose = two_elec_op2, new_h = 2)"
   ]
  },
  {
   "cell_type": "markdown",
   "id": "a44dd7cf-b4e0-4892-8554-57c2c71a3cae",
   "metadata": {},
   "source": [
    "## Solve hamiltonian using Numpy (exact) and VQE"
   ]
  },
  {
   "cell_type": "code",
   "execution_count": 12,
   "id": "bd067609-fce2-43bb-94bb-36457c061ff5",
   "metadata": {
    "tags": []
   },
   "outputs": [],
   "source": [
    "def compute_eig(Nuc, q_op, name = 'Atom-X'):\n",
    "    \n",
    "    # Merubah ke qubit\n",
    "    mapper = JordanWignerMapper()\n",
    "    qubit = mapper.map(second_q_ops = q_op)\n",
    "    N_qubit = qubit.num_qubits\n",
    "    \n",
    "    # Numpy\n",
    "    numpy_solver = NumPyMinimumEigensolver()\n",
    "    np_result = numpy_solver.compute_minimum_eigenvalue(operator=qubit)\n",
    "    E_np = np_result.eigenvalue.real + Nuc\n",
    "    \n",
    "    # print\n",
    "    print(name)\n",
    "    print(q_op)\n",
    "    print(qubit)\n",
    "    print('\\nNumber of qubit:', N_qubit)\n",
    "    print()\n",
    "    \n",
    "    return E_np"
   ]
  },
  {
   "cell_type": "markdown",
   "id": "2f3ba7d6-a61a-4bb2-94c5-2db017746b7e",
   "metadata": {},
   "source": [
    "### H sequence"
   ]
  },
  {
   "cell_type": "code",
   "execution_count": 13,
   "id": "df22f369-ef39-4b01-af31-49f8e617c9ce",
   "metadata": {
    "tags": []
   },
   "outputs": [
    {
     "name": "stdout",
     "output_type": "stream",
     "text": [
      "H\n",
      "Fermionic Operator\n",
      "number spin orbitals=2, number terms=3\n",
      "  -0.46658184955727533 * ( +_0 -_0 )\n",
      "+ 0.3873029719599489 * ( +_0 +_1 -_1 -_0 )\n",
      "+ 0.3873029719599489 * ( +_1 +_0 -_0 -_1 )\n",
      "SparsePauliOp(['II', 'IZ', 'ZI', 'ZZ'],\n",
      "              coeffs=[-0.03963944+0.j,  0.03963944+0.j, -0.19365149+0.j,  0.19365149+0.j])\n",
      "\n",
      "Number of qubit: 2\n",
      "\n",
      "He+\n",
      "Fermionic Operator\n",
      "number spin orbitals=2, number terms=3\n",
      "  -1.931748450137523 * ( +_0 -_0 )\n",
      "+ 0.5278564713675361 * ( +_0 +_1 -_1 -_0 )\n",
      "+ 0.5278564713675361 * ( +_1 +_0 -_0 -_1 )\n",
      "SparsePauliOp(['II', 'IZ', 'ZI', 'ZZ'],\n",
      "              coeffs=[-0.70194599+0.j,  0.70194599+0.j, -0.26392824+0.j,  0.26392824+0.j])\n",
      "\n",
      "Number of qubit: 2\n",
      "\n",
      "Li+2\n",
      "Fermionic Operator\n",
      "number spin orbitals=2, number terms=3\n",
      "  -4.407952827261486 * ( +_0 -_0 )\n",
      "+ 0.1921338756403566 * ( +_0 +_1 -_1 -_0 )\n",
      "+ 0.1921338756403566 * ( +_1 +_0 -_0 -_1 )\n",
      "SparsePauliOp(['II', 'IZ', 'ZI', 'ZZ'],\n",
      "              coeffs=[-2.10790948+0.j,  2.10790948+0.j, -0.09606694+0.j,  0.09606694+0.j])\n",
      "\n",
      "Number of qubit: 2\n",
      "\n",
      "Be+3\n",
      "Fermionic Operator\n",
      "number spin orbitals=2, number terms=3\n",
      "  -7.869212967626966 * ( +_0 -_0 )\n",
      "+ 0.27651049142562656 * ( +_0 +_1 -_1 -_0 )\n",
      "+ 0.27651049142562656 * ( +_1 +_0 -_0 -_1 )\n",
      "SparsePauliOp(['II', 'IZ', 'ZI', 'ZZ'],\n",
      "              coeffs=[-3.79635124+0.j,  3.79635124+0.j, -0.13825525+0.j,  0.13825525+0.j])\n",
      "\n",
      "Number of qubit: 2\n",
      "\n",
      "B+4\n",
      "Fermionic Operator\n",
      "number spin orbitals=2, number terms=3\n",
      "  -12.323029690864898 * ( +_0 -_0 )\n",
      "+ 0.3613748157088549 * ( +_0 +_1 -_1 -_0 )\n",
      "+ 0.3613748157088549 * ( +_1 +_0 -_0 -_1 )\n",
      "SparsePauliOp(['II', 'IZ', 'ZI', 'ZZ'],\n",
      "              coeffs=[-5.98082744+0.j,  5.98082744+0.j, -0.18068741+0.j,  0.18068741+0.j])\n",
      "\n",
      "Number of qubit: 2\n",
      "\n",
      "C+5\n",
      "Fermionic Operator\n",
      "number spin orbitals=2, number terms=3\n",
      "  -17.762986351563626 * ( +_0 -_0 )\n",
      "+ 0.41626734895830436 * ( +_0 +_1 -_1 -_0 )\n",
      "+ 0.41626734895830436 * ( +_1 +_0 -_0 -_1 )\n",
      "SparsePauliOp(['II', 'IZ', 'ZI', 'ZZ'],\n",
      "              coeffs=[-8.6733595 +0.j,  8.6733595 +0.j, -0.20813367+0.j,  0.20813367+0.j])\n",
      "\n",
      "Number of qubit: 2\n",
      "\n",
      "N+6\n",
      "Fermionic Operator\n",
      "number spin orbitals=2, number terms=3\n",
      "  -24.196090289205284 * ( +_0 -_0 )\n",
      "+ 0.47343905179719076 * ( +_0 +_1 -_1 -_0 )\n",
      "+ 0.47343905179719076 * ( +_1 +_0 -_0 -_1 )\n",
      "SparsePauliOp(['II', 'IZ', 'ZI', 'ZZ'],\n",
      "              coeffs=[-11.86132562+0.j,  11.86132562+0.j,  -0.23671953+0.j,   0.23671953+0.j])\n",
      "\n",
      "Number of qubit: 2\n",
      "\n",
      "O+7\n",
      "Fermionic Operator\n",
      "number spin orbitals=2, number terms=3\n",
      "  -31.616006604634094 * ( +_0 -_0 )\n",
      "+ 0.5466818561230097 * ( +_0 +_1 -_1 -_0 )\n",
      "+ 0.5466818561230097 * ( +_1 +_0 -_0 -_1 )\n",
      "SparsePauliOp(['II', 'IZ', 'ZI', 'ZZ'],\n",
      "              coeffs=[-15.53466237+0.j,  15.53466237+0.j,  -0.27334093+0.j,   0.27334093+0.j])\n",
      "\n",
      "Number of qubit: 2\n",
      "\n"
     ]
    }
   ],
   "source": [
    "H_np = compute_eig(Nuc = Nuc_H, q_op = H_final_s_op, name = 'H')\n",
    "He_p_np = compute_eig(Nuc = Nuc_He_p, q_op = He_p_final_s_op, name = 'He+')\n",
    "Li_p2_np = compute_eig(Nuc = Nuc_Li_p2, q_op = Li_p2_final_s_op, name = 'Li+2')\n",
    "Be_p3_np = compute_eig(Nuc = Nuc_Be_p3, q_op = Be_p3_final_s_op, name = 'Be+3')\n",
    "B_p4_np = compute_eig(Nuc = Nuc_B_p4, q_op = B_p4_final_s_op, name = 'B+4')\n",
    "C_p5_np = compute_eig(Nuc = Nuc_C_p5, q_op = C_p5_final_s_op, name = 'C+5')\n",
    "N_p6_np = compute_eig(Nuc = Nuc_N_p6, q_op = N_p6_final_s_op, name = 'N+6')\n",
    "O_p7_np = compute_eig(Nuc = Nuc_O_p7, q_op = O_p7_final_s_op, name = 'O+7')"
   ]
  },
  {
   "cell_type": "markdown",
   "id": "dc61f05c-d3ce-447f-95ab-f35338d8c512",
   "metadata": {},
   "source": [
    "### He sequence"
   ]
  },
  {
   "cell_type": "code",
   "execution_count": 14,
   "id": "6e023eeb-aadf-4a61-9594-e0fc8899b1f2",
   "metadata": {
    "tags": []
   },
   "outputs": [
    {
     "name": "stdout",
     "output_type": "stream",
     "text": [
      "H-\n",
      "Fermionic Operator\n",
      "number spin orbitals=2, number terms=4\n",
      "  -0.46658184955727533 * ( +_0 -_0 )\n",
      "+ -0.46658184955727533 * ( +_1 -_1 )\n",
      "+ 0.3873029719599489 * ( +_0 +_1 -_1 -_0 )\n",
      "+ 0.3873029719599489 * ( +_1 +_0 -_0 -_1 )\n",
      "SparsePauliOp(['II', 'IZ', 'ZI', 'ZZ'],\n",
      "              coeffs=[-0.27293036+0.j,  0.03963944+0.j,  0.03963944+0.j,  0.19365149+0.j])\n",
      "\n",
      "Number of qubit: 2\n",
      "\n",
      "He\n",
      "Fermionic Operator\n",
      "number spin orbitals=2, number terms=4\n",
      "  -1.931748450137523 * ( +_0 -_0 )\n",
      "+ -1.931748450137523 * ( +_1 -_1 )\n",
      "+ 0.5278564713675361 * ( +_0 +_1 -_1 -_0 )\n",
      "+ 0.5278564713675361 * ( +_1 +_0 -_0 -_1 )\n",
      "SparsePauliOp(['II', 'IZ', 'ZI', 'ZZ'],\n",
      "              coeffs=[-1.66782021+0.j,  0.70194599+0.j,  0.70194599+0.j,  0.26392824+0.j])\n",
      "\n",
      "Number of qubit: 2\n",
      "\n",
      "Li+\n",
      "Fermionic Operator\n",
      "number spin orbitals=2, number terms=4\n",
      "  -4.398682275993077 * ( +_0 -_0 )\n",
      "+ -4.398682275993077 * ( +_1 -_1 )\n",
      "+ 0.8309584614860211 * ( +_0 +_1 -_1 -_0 )\n",
      "+ 0.8309584614860211 * ( +_1 +_0 -_0 -_1 )\n",
      "SparsePauliOp(['II', 'IZ', 'ZI', 'ZZ'],\n",
      "              coeffs=[-3.98320305+0.j,  1.78386191+0.j,  1.78386191+0.j,  0.41547923+0.j])\n",
      "\n",
      "Number of qubit: 2\n",
      "\n",
      "Be+2\n",
      "Fermionic Operator\n",
      "number spin orbitals=2, number terms=4\n",
      "  -7.8591392077524125 * ( +_0 -_0 )\n",
      "+ -7.8591392077524125 * ( +_1 -_1 )\n",
      "+ 1.1392602288641382 * ( +_0 +_1 -_1 -_0 )\n",
      "+ 1.1392602288641382 * ( +_1 +_0 -_0 -_1 )\n",
      "SparsePauliOp(['II', 'IZ', 'ZI', 'ZZ'],\n",
      "              coeffs=[-7.28950909+0.j,  3.35993949+0.j,  3.35993949+0.j,  0.56963011+0.j])\n",
      "\n",
      "Number of qubit: 2\n",
      "\n",
      "B+3\n",
      "Fermionic Operator\n",
      "number spin orbitals=2, number terms=4\n",
      "  -12.312326846842767 * ( +_0 -_0 )\n",
      "+ -12.312326846842767 * ( +_1 -_1 )\n",
      "+ 1.4502403500824306 * ( +_0 +_1 -_1 -_0 )\n",
      "+ 1.4502403500824306 * ( +_1 +_0 -_0 -_1 )\n",
      "SparsePauliOp(['II', 'IZ', 'ZI', 'ZZ'],\n",
      "              coeffs=[-11.58720667+0.j,   5.43104325+0.j,   5.43104325+0.j,   0.72512018+0.j])\n",
      "\n",
      "Number of qubit: 2\n",
      "\n",
      "C+4\n",
      "Fermionic Operator\n",
      "number spin orbitals=2, number terms=4\n",
      "  -17.75398168707729 * ( +_0 -_0 )\n",
      "+ -17.75398168707729 * ( +_1 -_1 )\n",
      "+ 1.7606084901294987 * ( +_0 +_1 -_1 -_0 )\n",
      "+ 1.7606084901294987 * ( +_1 +_0 -_0 -_1 )\n",
      "SparsePauliOp(['II', 'IZ', 'ZI', 'ZZ'],\n",
      "              coeffs=[-16.87367744+0.j,   7.9966866 +0.j,   7.9966866 +0.j,   0.88030425+0.j])\n",
      "\n",
      "Number of qubit: 2\n",
      "\n",
      "N+5\n",
      "Fermionic Operator\n",
      "number spin orbitals=2, number terms=4\n",
      "  -24.18800690427003 * ( +_0 -_0 )\n",
      "+ -24.18800690427003 * ( +_1 -_1 )\n",
      "+ 2.073074920928437 * ( +_0 +_1 -_1 -_0 )\n",
      "+ 2.073074920928437 * ( +_1 +_0 -_0 -_1 )\n",
      "SparsePauliOp(['II', 'IZ', 'ZI', 'ZZ'],\n",
      "              coeffs=[-23.15146944+0.j,  11.05746599+0.j,  11.05746599+0.j,   1.03653746+0.j])\n",
      "\n",
      "Number of qubit: 2\n",
      "\n",
      "O+6\n",
      "Fermionic Operator\n",
      "number spin orbitals=2, number terms=4\n",
      "  -31.607897105505955 * ( +_0 -_0 )\n",
      "+ -31.607897105505955 * ( +_1 -_1 )\n",
      "+ 2.3818147886553818 * ( +_0 +_1 -_1 -_0 )\n",
      "+ 2.3818147886553818 * ( +_1 +_0 -_0 -_1 )\n",
      "SparsePauliOp(['II', 'IZ', 'ZI', 'ZZ'],\n",
      "              coeffs=[-30.41698971+0.j,  14.61304116+0.j,  14.61304116+0.j,   1.19090739+0.j])\n",
      "\n",
      "Number of qubit: 2\n",
      "\n"
     ]
    }
   ],
   "source": [
    "H_m_np = compute_eig(Nuc = Nuc_H_m, q_op = H_m_final_s_op, name = 'H-')\n",
    "He_np = compute_eig(Nuc = Nuc_He, q_op = He_final_s_op, name = 'He')\n",
    "Li_p_np = compute_eig(Nuc = Nuc_Li_p, q_op = Li_p_final_s_op, name = 'Li+')\n",
    "Be_p2_np = compute_eig(Nuc = Nuc_Be_p2, q_op = Be_p2_final_s_op, name = 'Be+2')\n",
    "B_p3_np = compute_eig(Nuc = Nuc_B_p3, q_op = B_p3_final_s_op, name = 'B+3')\n",
    "C_p4_np = compute_eig(Nuc = Nuc_C_p4, q_op = C_p4_final_s_op, name = 'C+4')\n",
    "N_p5_np = compute_eig(Nuc = Nuc_N_p5, q_op = N_p5_final_s_op, name = 'N+5')\n",
    "O_p6_np = compute_eig(Nuc = Nuc_O_p6, q_op = O_p6_final_s_op, name = 'O+6')"
   ]
  },
  {
   "cell_type": "markdown",
   "id": "52a8e91c-ad49-4c49-b391-1e0223da8305",
   "metadata": {},
   "source": [
    "# 1s Basis set"
   ]
  },
  {
   "cell_type": "markdown",
   "id": "92bd93d1-d362-4fee-b33a-accbf5f23e8e",
   "metadata": {},
   "source": [
    "## Coefficient 1s orbital set up"
   ]
  },
  {
   "cell_type": "code",
   "execution_count": 15,
   "id": "2d642c28-4d5d-4be7-ac8f-fc003849932c",
   "metadata": {
    "tags": []
   },
   "outputs": [],
   "source": [
    "def Hamil_H(Z, alpha = 1.24):\n",
    "    h00 = alpha**2/2 - Z*alpha\n",
    "    h0000 = 5/8*alpha\n",
    "    return h00, h0000"
   ]
  },
  {
   "cell_type": "markdown",
   "id": "fa0e40ba-31e2-472f-9821-a358195da85f",
   "metadata": {},
   "source": [
    "### H sequence, $\\alpha = Z$ "
   ]
  },
  {
   "cell_type": "code",
   "execution_count": 16,
   "id": "947acd32-bcf2-41f8-ad73-0f2e6a0758c9",
   "metadata": {
    "tags": []
   },
   "outputs": [
    {
     "name": "stdout",
     "output_type": "stream",
     "text": [
      "[1, 2, 3, 4, 5, 6, 7, 8]\n",
      "[-0.5, -2.0, -4.5, -8.0, -12.5, -18.0, -24.5, -32.0]\n",
      "[0.625, 1.25, 1.875, 2.5, 3.125, 3.75, 4.375, 5.0]\n"
     ]
    }
   ],
   "source": [
    "alpha_list = [alpha for alpha in range(1,9)]\n",
    "hpq_list = []\n",
    "hpqrs_list = []\n",
    "for i, j in enumerate(alpha_list):\n",
    "    hpq, hpqrs = Hamil_H(Z=i+1, alpha = j)\n",
    "    hpq_list.append(hpq)\n",
    "    hpqrs_list.append(hpqrs)\n",
    "print(alpha_list)\n",
    "print(hpq_list)\n",
    "print(hpqrs_list)"
   ]
  },
  {
   "cell_type": "markdown",
   "id": "34bf7113-bb8e-46a1-8b10-dcf2a36e781e",
   "metadata": {},
   "source": [
    "### He sequence, $\\alpha = Z - \\frac{5}{16}$"
   ]
  },
  {
   "cell_type": "code",
   "execution_count": 17,
   "id": "d6f51675-b73a-46da-ab75-b1d3398232f7",
   "metadata": {
    "tags": []
   },
   "outputs": [
    {
     "name": "stdout",
     "output_type": "stream",
     "text": [
      "[0.6875, 1.6875, 2.6875, 3.6875, 4.6875, 5.6875, 6.6875, 7.6875]\n",
      "[-0.451171875, -1.951171875, -4.451171875, -7.951171875, -12.451171875, -17.951171875, -24.451171875, -31.951171875]\n",
      "[0.4296875, 1.0546875, 1.6796875, 2.3046875, 2.9296875, 3.5546875, 4.1796875, 4.8046875]\n"
     ]
    }
   ],
   "source": [
    "alpha_list2 = [(Z - 5/16) for Z in range(1,9)]\n",
    "hpq_list2 = []\n",
    "hpqrs_list2 = []\n",
    "for i, j in enumerate(alpha_list2):\n",
    "    hpq2, hpqrs2 = Hamil_H(Z=i+1, alpha = j)\n",
    "    hpq_list2.append(hpq2)\n",
    "    hpqrs_list2.append(hpqrs2)\n",
    "print(alpha_list2)\n",
    "print(hpq_list2)\n",
    "print(hpqrs_list2)"
   ]
  },
  {
   "cell_type": "markdown",
   "id": "6d12d5ca-6c7a-4897-abd4-4c86c6e23f0b",
   "metadata": {},
   "source": [
    "## Solve hamiltonian using Numpy (exact) and VQE"
   ]
  },
  {
   "cell_type": "markdown",
   "id": "0ebe2ab3-681a-447d-911d-bdf6c7b1d865",
   "metadata": {},
   "source": [
    "### H sequence"
   ]
  },
  {
   "cell_type": "code",
   "execution_count": 18,
   "id": "fa57571f-4bfa-4e22-a474-349410bf80b6",
   "metadata": {
    "tags": []
   },
   "outputs": [],
   "source": [
    "one_elec_op = ['+_0 -_0','+_0 +_1 -_1 -_0', '+_1 +_0 -_0 -_1',]\n",
    "H_sequence_name = ['H','He+','Li2+','Be3+','B4+','C5+','N6+','O7+']\n",
    "H_sequence_exact = [-Z**2/ 2 for Z in range(1,9)]"
   ]
  },
  {
   "cell_type": "code",
   "execution_count": 19,
   "id": "3f4e9f0c-d25e-4d8d-95b7-143adc2b9b6b",
   "metadata": {
    "tags": []
   },
   "outputs": [
    {
     "name": "stdout",
     "output_type": "stream",
     "text": [
      "H\n",
      "Fermionic Operator\n",
      "number spin orbitals=2, number terms=3\n",
      "  -0.5 * ( +_0 -_0 )\n",
      "+ 0.3125 * ( +_0 +_1 -_1 -_0 )\n",
      "+ 0.3125 * ( +_1 +_0 -_0 -_1 )\n",
      "SparsePauliOp(['II', 'IZ', 'ZI', 'ZZ'],\n",
      "              coeffs=[-0.09375+0.j,  0.09375+0.j, -0.15625+0.j,  0.15625+0.j])\n",
      "\n",
      "Number of qubit: 2\n",
      "\n",
      "He+\n",
      "Fermionic Operator\n",
      "number spin orbitals=2, number terms=3\n",
      "  -2.0 * ( +_0 -_0 )\n",
      "+ 0.625 * ( +_0 +_1 -_1 -_0 )\n",
      "+ 0.625 * ( +_1 +_0 -_0 -_1 )\n",
      "SparsePauliOp(['II', 'IZ', 'ZI', 'ZZ'],\n",
      "              coeffs=[-0.6875+0.j,  0.6875+0.j, -0.3125+0.j,  0.3125+0.j])\n",
      "\n",
      "Number of qubit: 2\n",
      "\n",
      "Li2+\n",
      "Fermionic Operator\n",
      "number spin orbitals=2, number terms=3\n",
      "  -4.5 * ( +_0 -_0 )\n",
      "+ 0.9375 * ( +_0 +_1 -_1 -_0 )\n",
      "+ 0.9375 * ( +_1 +_0 -_0 -_1 )\n",
      "SparsePauliOp(['II', 'IZ', 'ZI', 'ZZ'],\n",
      "              coeffs=[-1.78125+0.j,  1.78125+0.j, -0.46875+0.j,  0.46875+0.j])\n",
      "\n",
      "Number of qubit: 2\n",
      "\n",
      "Be3+\n",
      "Fermionic Operator\n",
      "number spin orbitals=2, number terms=3\n",
      "  -8.0 * ( +_0 -_0 )\n",
      "+ 1.25 * ( +_0 +_1 -_1 -_0 )\n",
      "+ 1.25 * ( +_1 +_0 -_0 -_1 )\n",
      "SparsePauliOp(['II', 'IZ', 'ZI', 'ZZ'],\n",
      "              coeffs=[-3.375+0.j,  3.375+0.j, -0.625+0.j,  0.625+0.j])\n",
      "\n",
      "Number of qubit: 2\n",
      "\n",
      "B4+\n",
      "Fermionic Operator\n",
      "number spin orbitals=2, number terms=3\n",
      "  -12.5 * ( +_0 -_0 )\n",
      "+ 1.5625 * ( +_0 +_1 -_1 -_0 )\n",
      "+ 1.5625 * ( +_1 +_0 -_0 -_1 )\n",
      "SparsePauliOp(['II', 'IZ', 'ZI', 'ZZ'],\n",
      "              coeffs=[-5.46875+0.j,  5.46875+0.j, -0.78125+0.j,  0.78125+0.j])\n",
      "\n",
      "Number of qubit: 2\n",
      "\n",
      "C5+\n",
      "Fermionic Operator\n",
      "number spin orbitals=2, number terms=3\n",
      "  -18.0 * ( +_0 -_0 )\n",
      "+ 1.875 * ( +_0 +_1 -_1 -_0 )\n",
      "+ 1.875 * ( +_1 +_0 -_0 -_1 )\n",
      "SparsePauliOp(['II', 'IZ', 'ZI', 'ZZ'],\n",
      "              coeffs=[-8.0625+0.j,  8.0625+0.j, -0.9375+0.j,  0.9375+0.j])\n",
      "\n",
      "Number of qubit: 2\n",
      "\n",
      "N6+\n",
      "Fermionic Operator\n",
      "number spin orbitals=2, number terms=3\n",
      "  -24.5 * ( +_0 -_0 )\n",
      "+ 2.1875 * ( +_0 +_1 -_1 -_0 )\n",
      "+ 2.1875 * ( +_1 +_0 -_0 -_1 )\n",
      "SparsePauliOp(['II', 'IZ', 'ZI', 'ZZ'],\n",
      "              coeffs=[-11.15625+0.j,  11.15625+0.j,  -1.09375+0.j,   1.09375+0.j])\n",
      "\n",
      "Number of qubit: 2\n",
      "\n",
      "O7+\n",
      "Fermionic Operator\n",
      "number spin orbitals=2, number terms=3\n",
      "  -32.0 * ( +_0 -_0 )\n",
      "+ 2.5 * ( +_0 +_1 -_1 -_0 )\n",
      "+ 2.5 * ( +_1 +_0 -_0 -_1 )\n",
      "SparsePauliOp(['II', 'IZ', 'ZI', 'ZZ'],\n",
      "              coeffs=[-14.75+0.j,  14.75+0.j,  -1.25+0.j,   1.25+0.j])\n",
      "\n",
      "Number of qubit: 2\n",
      "\n"
     ]
    }
   ],
   "source": [
    "E_H_np_list2 = []\n",
    "for i, j in enumerate(H_sequence_name):\n",
    "    H_seq_op = FermionicOp(\n",
    "        {\n",
    "            \"+_0 -_0\": hpq_list[i],\n",
    "            '+_0 +_1 -_1 -_0': 1/2*hpqrs_list[i],\n",
    "            '+_1 +_0 -_0 -_1': 1/2*hpqrs_list[i],\n",
    "        },\n",
    "        num_spin_orbitals=2,\n",
    "    )\n",
    "    \n",
    "    H_seq_np = compute_eig(Nuc = 0, q_op = H_seq_op, name = H_sequence_name[i])\n",
    "    E_H_np_list2.append(H_seq_np)"
   ]
  },
  {
   "cell_type": "markdown",
   "id": "483c9cd7-0a09-4bf4-b4c2-25bf2ebabec1",
   "metadata": {},
   "source": [
    "### He-sequence"
   ]
  },
  {
   "cell_type": "code",
   "execution_count": 20,
   "id": "6373963b-c433-423b-8e89-8344af356d46",
   "metadata": {
    "tags": []
   },
   "outputs": [],
   "source": [
    "two_elec_op = ['+_0 -_0','+_1 -_1','+_0 +_1 -_1 -_0', '+_1 +_0 -_0 -_1',]\n",
    "He_sequence_name = ['H-','He','Li+','Be2+','B3+','C4+','N5+','O6+']\n",
    "He_sequence_ref = [-0.5277,-2.9034,-7.2799,-13.6556,-22.031,-32.4062,-44.7814,-59.1566]"
   ]
  },
  {
   "cell_type": "code",
   "execution_count": 21,
   "id": "70232396-5d31-442c-a5d6-df6294eaaef9",
   "metadata": {
    "tags": []
   },
   "outputs": [
    {
     "name": "stdout",
     "output_type": "stream",
     "text": [
      "H-\n",
      "Fermionic Operator\n",
      "number spin orbitals=2, number terms=4\n",
      "  -0.451171875 * ( +_0 -_0 )\n",
      "+ -0.451171875 * ( +_1 -_1 )\n",
      "+ 0.21484375 * ( +_0 +_1 -_1 -_0 )\n",
      "+ 0.21484375 * ( +_1 +_0 -_0 -_1 )\n",
      "SparsePauliOp(['II', 'IZ', 'ZI', 'ZZ'],\n",
      "              coeffs=[-0.34375   +0.j,  0.11816406+0.j,  0.11816406+0.j,  0.10742188+0.j])\n",
      "\n",
      "Number of qubit: 2\n",
      "\n",
      "He\n",
      "Fermionic Operator\n",
      "number spin orbitals=2, number terms=4\n",
      "  -1.951171875 * ( +_0 -_0 )\n",
      "+ -1.951171875 * ( +_1 -_1 )\n",
      "+ 0.52734375 * ( +_0 +_1 -_1 -_0 )\n",
      "+ 0.52734375 * ( +_1 +_0 -_0 -_1 )\n",
      "SparsePauliOp(['II', 'IZ', 'ZI', 'ZZ'],\n",
      "              coeffs=[-1.6875    +0.j,  0.71191406+0.j,  0.71191406+0.j,  0.26367188+0.j])\n",
      "\n",
      "Number of qubit: 2\n",
      "\n",
      "Li+\n",
      "Fermionic Operator\n",
      "number spin orbitals=2, number terms=4\n",
      "  -4.451171875 * ( +_0 -_0 )\n",
      "+ -4.451171875 * ( +_1 -_1 )\n",
      "+ 0.83984375 * ( +_0 +_1 -_1 -_0 )\n",
      "+ 0.83984375 * ( +_1 +_0 -_0 -_1 )\n",
      "SparsePauliOp(['II', 'IZ', 'ZI', 'ZZ'],\n",
      "              coeffs=[-4.03125   +0.j,  1.80566406+0.j,  1.80566406+0.j,  0.41992188+0.j])\n",
      "\n",
      "Number of qubit: 2\n",
      "\n",
      "Be2+\n",
      "Fermionic Operator\n",
      "number spin orbitals=2, number terms=4\n",
      "  -7.951171875 * ( +_0 -_0 )\n",
      "+ -7.951171875 * ( +_1 -_1 )\n",
      "+ 1.15234375 * ( +_0 +_1 -_1 -_0 )\n",
      "+ 1.15234375 * ( +_1 +_0 -_0 -_1 )\n",
      "SparsePauliOp(['II', 'IZ', 'ZI', 'ZZ'],\n",
      "              coeffs=[-7.375     +0.j,  3.39941406+0.j,  3.39941406+0.j,  0.57617188+0.j])\n",
      "\n",
      "Number of qubit: 2\n",
      "\n",
      "B3+\n",
      "Fermionic Operator\n",
      "number spin orbitals=2, number terms=4\n",
      "  -12.451171875 * ( +_0 -_0 )\n",
      "+ -12.451171875 * ( +_1 -_1 )\n",
      "+ 1.46484375 * ( +_0 +_1 -_1 -_0 )\n",
      "+ 1.46484375 * ( +_1 +_0 -_0 -_1 )\n",
      "SparsePauliOp(['II', 'IZ', 'ZI', 'ZZ'],\n",
      "              coeffs=[-11.71875   +0.j,   5.49316406+0.j,   5.49316406+0.j,   0.73242188+0.j])\n",
      "\n",
      "Number of qubit: 2\n",
      "\n",
      "C4+\n",
      "Fermionic Operator\n",
      "number spin orbitals=2, number terms=4\n",
      "  -17.951171875 * ( +_0 -_0 )\n",
      "+ -17.951171875 * ( +_1 -_1 )\n",
      "+ 1.77734375 * ( +_0 +_1 -_1 -_0 )\n",
      "+ 1.77734375 * ( +_1 +_0 -_0 -_1 )\n",
      "SparsePauliOp(['II', 'IZ', 'ZI', 'ZZ'],\n",
      "              coeffs=[-17.0625    +0.j,   8.08691406+0.j,   8.08691406+0.j,   0.88867188+0.j])\n",
      "\n",
      "Number of qubit: 2\n",
      "\n",
      "N5+\n",
      "Fermionic Operator\n",
      "number spin orbitals=2, number terms=4\n",
      "  -24.451171875 * ( +_0 -_0 )\n",
      "+ -24.451171875 * ( +_1 -_1 )\n",
      "+ 2.08984375 * ( +_0 +_1 -_1 -_0 )\n",
      "+ 2.08984375 * ( +_1 +_0 -_0 -_1 )\n",
      "SparsePauliOp(['II', 'IZ', 'ZI', 'ZZ'],\n",
      "              coeffs=[-23.40625   +0.j,  11.18066406+0.j,  11.18066406+0.j,   1.04492188+0.j])\n",
      "\n",
      "Number of qubit: 2\n",
      "\n",
      "O6+\n",
      "Fermionic Operator\n",
      "number spin orbitals=2, number terms=4\n",
      "  -31.951171875 * ( +_0 -_0 )\n",
      "+ -31.951171875 * ( +_1 -_1 )\n",
      "+ 2.40234375 * ( +_0 +_1 -_1 -_0 )\n",
      "+ 2.40234375 * ( +_1 +_0 -_0 -_1 )\n",
      "SparsePauliOp(['II', 'IZ', 'ZI', 'ZZ'],\n",
      "              coeffs=[-30.75      +0.j,  14.77441406+0.j,  14.77441406+0.j,   1.20117188+0.j])\n",
      "\n",
      "Number of qubit: 2\n",
      "\n"
     ]
    }
   ],
   "source": [
    "E_He_np_list2 = []\n",
    "for i, j in enumerate(He_sequence_name):\n",
    "    He_seq_op = FermionicOp(\n",
    "        {\n",
    "            \"+_0 -_0\": hpq_list2[i],\n",
    "            \"+_1 -_1\": hpq_list2[i],\n",
    "            '+_0 +_1 -_1 -_0': 1/2*hpqrs_list2[i],\n",
    "            '+_1 +_0 -_0 -_1': 1/2*hpqrs_list2[i],\n",
    "        },\n",
    "        num_spin_orbitals=2,\n",
    "    )\n",
    "    \n",
    "    He_seq_np = compute_eig(Nuc = 0, q_op = He_seq_op, name = He_sequence_name[i])\n",
    "    E_He_np_list2.append(He_seq_np)"
   ]
  },
  {
   "cell_type": "markdown",
   "id": "5d2d162d-a9c5-4a03-810c-86ac73580777",
   "metadata": {},
   "source": [
    "# Result"
   ]
  },
  {
   "cell_type": "markdown",
   "id": "705419d8-15d3-4812-9572-9b9674fa3c4f",
   "metadata": {},
   "source": [
    "## H sequence"
   ]
  },
  {
   "cell_type": "code",
   "execution_count": 22,
   "id": "7ce6a4ed-22ad-466c-a3dd-e8de158fc081",
   "metadata": {
    "tags": []
   },
   "outputs": [],
   "source": [
    "E_H_np_list1 = [H_np,He_p_np,Li_p2_np,Be_p3_np,B_p4_np,C_p5_np,N_p6_np,O_p7_np,]\n",
    "H_sequence_exact = [-i**2/2 for i in range(1,9)]\n",
    "H_sequence_name = ['H','He+','Li2+','Be3+','B4+','C5+','N6+','O7+']\n",
    "x = np.arange(len(E_H_np_list1)) \n",
    "width = 0.3"
   ]
  },
  {
   "cell_type": "code",
   "execution_count": 23,
   "id": "caab0f30-79aa-40f6-8d18-bc68b07e2e3c",
   "metadata": {
    "tags": []
   },
   "outputs": [
    {
     "name": "stdout",
     "output_type": "stream",
     "text": [
      "Hamiltonian H sequence :\n",
      " ['+_0 -_0', '+_0 +_1 -_1 -_0', '+_1 +_0 -_0 -_1'] \n",
      "\n",
      "Atom  |    STO3G     |      1s      |    Exact    \n",
      "  H   |   -0.46658   |   -0.50000   |    -0.50    \n",
      " He+  |   -1.93175   |   -2.00000   |    -2.00    \n",
      "Li2+  |   -4.40795   |   -4.50000   |    -4.50    \n",
      "Be3+  |   -7.86921   |   -8.00000   |    -8.00    \n",
      " B4+  |  -12.32303   |  -12.50000   |    -12.50   \n",
      " C5+  |  -17.76299   |  -18.00000   |    -18.00   \n",
      " N6+  |  -24.19609   |  -24.50000   |    -24.50   \n",
      " O7+  |  -31.61601   |  -32.00000   |    -32.00   \n"
     ]
    }
   ],
   "source": [
    "#print \n",
    "head = '{:^5} | {:^12} | {:^12} | {:^12}'\n",
    "rowf = '{:^5} | {:^12.5f} | {:^12.5f} | {:^12.2f}'\n",
    "print('Hamiltonian H sequence :\\n', one_elec_op,'\\n')\n",
    "print(head.format('Atom', 'STO3G', '1s', 'Exact'))\n",
    "for i, j in enumerate(H_sequence_name):\n",
    "    print(rowf.format(j,E_H_np_list1[i],E_H_np_list2[i],H_sequence_exact[i]))"
   ]
  },
  {
   "cell_type": "code",
   "execution_count": 24,
   "id": "94f588be-281d-46d2-a497-852dcd80bb35",
   "metadata": {
    "tags": []
   },
   "outputs": [
    {
     "data": {
      "image/png": "[encoded data removed]",
      "text/plain": [
       "<Figure size 500x800 with 1 Axes>"
      ]
     },
     "metadata": {},
     "output_type": "display_data"
    }
   ],
   "source": [
    "plt.figure(figsize=(5,8))\n",
    "plt.bar(x-width, E_H_np_list1, width, color='black') \n",
    "plt.bar(x, E_H_np_list2, width, color='red') \n",
    "plt.bar(x+width, H_sequence_exact, width, color='blue') \n",
    "plt.xticks(x, [r'H', r'He$^\\plus$', r'Li$^{2\\plus}$', r'Be$^{3\\plus}$', r'B$^{4\\plus}$', r'C$^{5\\plus}$',r'N$^{6\\plus}$', r'O$^{7\\plus}$']) \n",
    "plt.ylabel(\"Energy (Hartree)\") \n",
    "plt.xlabel(\"H Sequence\") \n",
    "plt.legend([\"STO-3G\", r\"1$s$ STO\", \"Exact\"]) \n",
    "plt.show() "
   ]
  },
  {
   "cell_type": "markdown",
   "id": "426fe467-d586-4b19-bf73-232a6a339407",
   "metadata": {},
   "source": [
    "## He sequence"
   ]
  },
  {
   "cell_type": "code",
   "execution_count": 25,
   "id": "10aabdb9-d2a4-413e-87a0-b5744f65cc4f",
   "metadata": {
    "tags": []
   },
   "outputs": [],
   "source": [
    "E_He_np_list1 = [H_m_np,He_np,Li_p_np,Be_p2_np,B_p3_np,C_p4_np,N_p5_np,O_p6_np,]\n",
    "He_sequence_ref = [-0.5277,-2.9034,-7.2799,-13.6556,-22.031,-32.4062,-44.7814,-59.1566]\n",
    "He_sequence_name = ['H-','He','Li+','Be2+','B3+','C4+','N5+','O6+']\n",
    "x = np.arange(len(E_He_np_list1)) \n",
    "width = 0.3"
   ]
  },
  {
   "cell_type": "code",
   "execution_count": 26,
   "id": "6d8c48d4-302c-4734-8331-dcc619a0da29",
   "metadata": {
    "tags": []
   },
   "outputs": [
    {
     "name": "stdout",
     "output_type": "stream",
     "text": [
      "Hamiltonian He sequence :\n",
      " ['+_0 -_0', '+_1 -_1', '+_0 +_1 -_1 -_0', '+_1 +_0 -_0 -_1'] \n",
      "\n",
      "Atom  |    STO3G     |      1s      |     Ref     \n",
      " H-   |   -0.46658   |   -0.47266   |    -0.53    \n",
      " He   |   -2.80778   |   -2.84766   |    -2.90    \n",
      " Li+  |   -7.13545   |   -7.22266   |    -7.28    \n",
      "Be2+  |  -13.43976   |  -13.59766   |    -13.66   \n",
      " B3+  |  -21.72417   |  -21.97266   |    -22.03   \n",
      " C4+  |  -31.98675   |  -32.34766   |    -32.41   \n",
      " N5+  |  -44.22986   |  -44.72266   |    -44.78   \n",
      " O6+  |  -58.45216   |  -59.09766   |    -59.16   \n"
     ]
    }
   ],
   "source": [
    "#print \n",
    "head = '{:^5} | {:^12} | {:^12} | {:^12}'\n",
    "rowf = '{:^5} | {:^12.5f} | {:^12.5f} | {:^12.2f}'\n",
    "print('Hamiltonian He sequence :\\n', two_elec_op,'\\n')\n",
    "print(head.format('Atom', 'STO3G', '1s', 'Ref'))\n",
    "for i, j in enumerate(He_sequence_name):\n",
    "    print(rowf.format(j,E_He_np_list1[i],E_He_np_list2[i],He_sequence_ref[i]))"
   ]
  },
  {
   "cell_type": "code",
   "execution_count": 27,
   "id": "76444674-0023-4c1e-bfed-e98bc345912c",
   "metadata": {},
   "outputs": [
    {
     "data": {
      "image/png": "[encoded data removed]",
      "text/plain": [
       "<Figure size 500x800 with 1 Axes>"
      ]
     },
     "metadata": {},
     "output_type": "display_data"
    }
   ],
   "source": [
    "plt.figure(figsize=(5,8))\n",
    "plt.bar(x-width, E_He_np_list1, width, color='black') \n",
    "plt.bar(x, E_He_np_list2, width, color='red') \n",
    "plt.bar(x+width, He_sequence_ref, width, color='blue') \n",
    "plt.xticks(x, [r'H', r'He$^\\plus$', r'Li$^{2\\plus}$', r'Be$^{3\\plus}$', r'B$^{4\\plus}$', r'C$^{5\\plus}$',r'N$^{6\\plus}$', r'O$^{7\\plus}$']) \n",
    "plt.ylabel(\"Energy (Hartree)\") \n",
    "plt.xlabel(\"He Sequence\") \n",
    "plt.legend([\"STO-3G\", r\"1$s$ STO\", \"Accurate\"]) \n",
    "plt.show() "
   ]
  },
  {
   "cell_type": "code",
   "execution_count": 28,
   "id": "b4783591-a68f-4ff3-9973-079562e44794",
   "metadata": {
    "tags": []
   },
   "outputs": [],
   "source": [
    "qiskit_ver = qiskit.__version__\n",
    "qiskit_nature_ver = qiskit_nature.__version__\n",
    "pyscf_ver = pyscf.__version__"
   ]
  },
  {
   "cell_type": "code",
   "execution_count": 29,
   "id": "22c36e13-9f5b-42b2-9fa3-40f71f2999f3",
   "metadata": {
    "tags": []
   },
   "outputs": [
    {
     "name": "stdout",
     "output_type": "stream",
     "text": [
      "Library Information\n",
      "Qiskit          : 1.0.2\n",
      "Qiskit Nature   : 0.7.2\n",
      "Pyscf           : 2.5.0\n"
     ]
    }
   ],
   "source": [
    "txt = '{:15} : {:}'\n",
    "print('Library Information')\n",
    "print(txt.format('Qiskit', qiskit_ver))\n",
    "print(txt.format('Qiskit Nature', qiskit_nature_ver))\n",
    "print(txt.format('Pyscf', pyscf_ver))"
   ]
  }
 ],
 "metadata": {
  "kernelspec": {
   "display_name": "Qiskit v1.0.2 (ipykernel)",
   "language": "python",
   "name": "python3"
  },
  "language_info": {
   "codemirror_mode": {
    "name": "ipython",
    "version": 3
   },
   "file_extension": ".py",
   "mimetype": "text/x-python",
   "name": "python",
   "nbconvert_exporter": "python",
   "pygments_lexer": "ipython3",
   "version": "3.10.8"
  },
  "widgets": {
   "application/vnd.jupyter.widget-state+json": {
    "state": {},
    "version_major": 2,
    "version_minor": 0
   }
  }
 },
 "nbformat": 4,
 "nbformat_minor": 5
}
